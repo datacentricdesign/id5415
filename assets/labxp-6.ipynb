{
 "cells": [
  {
   "source": [
    "In this Jupyter Notebook, we explore how to get data of properties and shared properties from Bucket. We use this input to draw line charts, bar charts and pie charts.\n",
    "\n",
    "# Step 1 Connect to Bucket\n",
    "\n",
    "We first start by loading the required packages."
   ],
   "cell_type": "markdown",
   "metadata": {}
  },
  {
   "cell_type": "code",
   "execution_count": null,
   "metadata": {
    "tags": []
   },
   "outputs": [],
   "source": [
    "# Loading environment variables from the .env file\n",
    "from dotenv import load_dotenv\n",
    "import os\n",
    "load_dotenv()\n",
    "# Thing\n",
    "from dcd.bucket.thing import Thing"
   ]
  },
  {
   "source": [
    "We can connect to the Raspberry Pi Thing. We use the environment variable from the .env file. Note the parameter connect=False, avoiding the MQTT connection (not necessary for analysing data already collected)."
   ],
   "cell_type": "markdown",
   "metadata": {}
  },
  {
   "cell_type": "code",
   "execution_count": null,
   "metadata": {},
   "outputs": [],
   "source": [
    "THING_ID = os.getenv(\"THING_ID\", None)\n",
    "PRIVATE_KEY_PATH = os.getenv(\"PRIVATE_KEY_PATH\", None)\n",
    "thing_pi = Thing(thing_id=THING_ID, private_key_path=PRIVATE_KEY_PATH, connect=False)\n",
    "# show the details of the Thing, in JSON format\n",
    "thing_pi.describe()"
   ]
  },
  {
   "source": [
    "We can also connect to the Lightbulb Thing."
   ],
   "cell_type": "markdown",
   "metadata": {}
  },
  {
   "cell_type": "code",
   "execution_count": null,
   "metadata": {},
   "outputs": [],
   "source": [
    "LIGHTBULB_THING_ID = os.getenv(\"LIGHTBULB_THING_ID\", None)\n",
    "LIGHTBULB_PRIVATE_KEY_PATH = os.getenv(\"LIGHTBULB_PRIVATE_KEY_PATH\", None)\n",
    "thing_bulb = Thing(thing_id=LIGHTBULB_THING_ID, private_key_path=LIGHTBULB_PRIVATE_KEY_PATH, connect=False)\n",
    "# show the details of the Thing, in JSON format\n",
    "thing_bulb.describe()"
   ]
  },
  {
   "source": [
    "# Step 2 Line charts and Properties\n",
    "\n",
    "Here is an example that retrieve the light sensor property by its name and fetch its data between for September 28. Adjust the name of the property if you chose a different one (see on Bucket or in the above describe() output). To find a date to observe, look at the Bucket main dashboard and check when data has been collected."
   ],
   "cell_type": "markdown",
   "metadata": {}
  },
  {
   "source": [
    "light = thing_pi.find_property_by_name('LDR sensor')\n",
    "light.read(from_ts=\"2020-09-28 00:00:00\", to_ts=\"2020-09-29 00:00:00\")\n",
    "print(len(light.values))"
   ],
   "cell_type": "code",
   "metadata": {
    "tags": []
   },
   "execution_count": null,
   "outputs": []
  },
  {
   "source": [
    "You can add light.describe() to have how the data look inside. You could also print len(light.values) to count the number of data points you received from Bucket. Once we fetched the data of our property, we can draw a line chart. For this we use Numpy, MatplotLib and Pandas, typical Python libraries for plotting and manipulating data."
   ],
   "cell_type": "markdown",
   "metadata": {}
  },
  {
   "cell_type": "code",
   "execution_count": null,
   "metadata": {},
   "outputs": [],
   "source": [
    "# ploting and math packages\n",
    "import matplotlib.pyplot as plt\n",
    "import numpy as np\n",
    "import pandas as pd\n",
    "from datetime import datetime"
   ]
  },
  {
   "source": [
    "The values as structured as follows: \n",
    "\n",
    "[\n",
    "    [time, value 1, value 2],\n",
    "    [time, value 1, value 2]\n",
    "    ...\n",
    "]\n",
    "\n",
    "In the following snippet, we transform this array of values (a Python list) into a Numpy array which comes with handy ways of manipulating the data. For instance, we extract the first value of each array (the time) into a single array with data[:0], meaning for all rows, we take the column 0. Same for the value of the light, in the column 1. Then, we use Matplotlib to prepare a plot, which we provide with the time and the series (values of the light sensor)."
   ],
   "cell_type": "markdown",
   "metadata": {}
  },
  {
   "cell_type": "code",
   "execution_count": null,
   "metadata": {
    "tags": []
   },
   "outputs": [],
   "source": [
    "data = np.array(light.values)\n",
    "time = data[:,0]\n",
    "series = data[:, 1]\n",
    "fig, axs = plt.subplots()\n",
    "axs.plot(time, series)\n",
    "plt.show()"
   ]
  },
  {
   "source": [
    "The result could be nicer. First, we can format the time, transforming the UNIX timestamp into a Python date with Pandas. We can add label to each axis using the type information (in this case, in the first dimension). Finally, we add a grid in the background and we increase the width of the chart."
   ],
   "cell_type": "markdown",
   "metadata": {}
  },
  {
   "cell_type": "code",
   "execution_count": null,
   "metadata": {},
   "outputs": [],
   "source": [
    "data = np.array(light.values)\n",
    "time = pd.to_datetime(data[:,0], unit='ms')\n",
    "series = data[:, 1]\n",
    "\n",
    "fig, axs = plt.subplots()\n",
    "axs.plot(time, series)\n",
    "\n",
    "axs.set_xlabel('time')\n",
    "dimension = light.type[\"dimensions\"][0]\n",
    "axs.set_ylabel(dimension[\"name\"] + \" (\" + dimension[\"unit\"] + \")\" )\n",
    "\n",
    "axs.grid(True)\n",
    "fig.set_figwidth(15)\n",
    "\n",
    "plt.show()"
   ]
  },
  {
   "source": [
    "The following snippets repeat a similar process with the CPU usage."
   ],
   "cell_type": "markdown",
   "metadata": {}
  },
  {
   "cell_type": "code",
   "execution_count": null,
   "metadata": {},
   "outputs": [],
   "source": [
    "cpu = thing_pi.find_property_by_name(\"Processor Usage\")\n",
    "cpu.read(from_ts=\"2020-09-28 06:00:00\", to_ts=\"2020-09-28 09:00:00\")"
   ]
  },
  {
   "source": [
    "Here we illustrate several extra options such as setting a title and limiting the y axis from 0 to 40 (a fix scale makes plots more comparable)."
   ],
   "cell_type": "markdown",
   "metadata": {}
  },
  {
   "cell_type": "code",
   "execution_count": null,
   "metadata": {
    "tags": []
   },
   "outputs": [],
   "source": [
    "data = np.array(cpu.values)\n",
    "time = pd.to_datetime(data[:,0], unit='ms')\n",
    "series = data[:, 1].astype(float)\n",
    "\n",
    "fig, axs = plt.subplots()\n",
    "axs.plot(time, series)\n",
    "axs.set_ylim(0, 40)\n",
    "axs.set_title(cpu.name)\n",
    "axs.set_xlabel('time')\n",
    "dimension = cpu.type[\"dimensions\"][0]\n",
    "axs.set_ylabel(dimension[\"name\"] + \" (\" + dimension[\"unit\"] + \")\" )\n",
    "axs.grid(True)\n",
    "fig.set_figwidth(15)\n",
    "\n",
    "plt.show()"
   ]
  },
  {
   "source": [
    "# Step 3 Muliple axis\n",
    "\n",
    "The next step is about multiple dimensions such as the lightbulb status involving the ON/OFF state, the brightness and many other dimensions."
   ],
   "cell_type": "markdown",
   "metadata": {}
  },
  {
   "cell_type": "code",
   "execution_count": null,
   "metadata": {},
   "outputs": [],
   "source": [
    "\n",
    "lightbulb = thing_lightbulb.find_property_by_name(\"Lightbulb Status\")\n",
    "lightbulb.read(from_ts=\"2020-09-01 06:00:00\", to_ts=\"2020-09-28 09:00:00\")"
   ]
  },
  {
   "source": [
    "Here is an example of chart with multiple axis. We use 'step' instead of 'plot' for the ON/OFF state, to get a staircase type of visualisation."
   ],
   "cell_type": "markdown",
   "metadata": {}
  },
  {
   "cell_type": "code",
   "execution_count": null,
   "metadata": {},
   "outputs": [],
   "source": [
    "data = np.array(bulb.values)\n",
    "time = pd.to_datetime(data[:,0], unit='ms')\n",
    "series1 = data[:, 1].astype(float)      # ON / OFF Status\n",
    "series2 = data[:, 6].astype(float)      # Brightness\n",
    "\n",
    "fig, axs = plt.subplots()\n",
    "axs.step(time, series1, color=\"#00cc00\")    # Any hexadecimal color would work\n",
    "axs.set_ylim(0, 4)                          # The state is 0 or 1, but its visualisation is nicer with space above\n",
    "\n",
    "# Create a second y-axis with twinx\n",
    "axs2 = axs.twinx()\n",
    "axs2.plot(time, series2, color=\"#cc0000\")\n",
    "axs2.set_ylim(0, 100)\n",
    "\n",
    "axs.set_xlabel('time')\n",
    "\n",
    "dim_state = lightbulb.type[\"dimensions\"][0]\n",
    "axs.set_ylabel(dim_state[\"name\"])\n",
    "\n",
    "dim_brigthness = lightbulb.type[\"dimensions\"][5]\n",
    "axs2.set_ylabel(dim_brigthness[\"name\"])\n",
    "\n",
    "axs.set_title(lightbulb.name)\n",
    "axs.grid(True)\n",
    "fig.set_figwidth(15)\n",
    "\n",
    "plt.show()"
   ]
  },
  {
   "source": [
    "# Step 4 Aggregation and Shared Properties\n",
    "\n",
    "In the following snippet of code, we get the shared properties our Raspberry Pi Thing has access too."
   ],
   "cell_type": "markdown",
   "metadata": {}
  },
  {
   "cell_type": "code",
   "execution_count": null,
   "metadata": {},
   "outputs": [],
   "source": [
    "shared_properties = thing_pi.find_shared_properties(group = \"*\")\n",
    "for property in thing_pi.shared_properties:\n",
    "    property.describe()"
   ]
  },
  {
   "source": [
    "With this list, we can for example loop through them and count the number of available data points.\n",
    "Bucket does that for us, we can specify the following parameters:\n",
    "* time_interval: the duration of each interval (1d for 1 day, 4h for 4 hours, 7m for 7 minute...)\n",
    "* time_fct: the aggregation function for each interval: in this case we will 'count' the data points\n",
    "* fill: what to do when there is no data, in our case we will fill with zeros."
   ],
   "cell_type": "markdown",
   "metadata": {}
  },
  {
   "cell_type": "code",
   "execution_count": null,
   "metadata": {},
   "outputs": [],
   "source": [
    "for property in shared_properties:\n",
    "    prop_with_data = thing_pi.read_property(property.property_id, from_ts=\"2020-09-01 00:00:00\", to_ts=\"2020-10-20 00:00:00\", time_interval=\"1d\", time_fct=\"count\", fill=\"0\")\n",
    "    print(len(prop_with_data.values))"
   ]
  },
  {
   "source": [
    "We can use this result to build a stacked bar chart, similar to the one on the Bucket dashboard."
   ],
   "cell_type": "markdown",
   "metadata": {}
  },
  {
   "cell_type": "code",
   "execution_count": null,
   "metadata": {},
   "outputs": [],
   "source": [
    "\n",
    "fig, axs = plt.subplots()\n",
    "time = None\n",
    "width = 0.20\n",
    "previous = None\n",
    "for property in shared_properties:\n",
    "    prop_with_data = thing_pi.read_property(property.property_id, from_ts=\"2020-09-01 00:00:00\", to_ts=\"2020-10-20 00:00:00\", time_interval=\"1d\", time_fct=\"count\", fill=\"0\")\n",
    "    if len(prop_with_data.values) > 0:\n",
    "        data = np.array(prop_with_data.values)\n",
    "        # If we did not create x-axis (time) yet\n",
    "        if time is None:\n",
    "            time = pd.to_datetime(data[:,0], unit='ms')\n",
    "        \n",
    "        series = data[:, 1]     # count\n",
    "        # Use the previous series as 'bottom' to stack bars of each properties\n",
    "        axs.bar(time, series, width, bottom=previous, label=property.name)\n",
    "        # The current series becomes the previous  \n",
    "        previous = series                                   \n",
    "\n",
    "axs.set_xlabel('time')\n",
    "axs.set_ylabel(\"count\")\n",
    "axs.set_title('Count of all shared properties')\n",
    "axs.legend()\n",
    "fig.set_figwidth(15)\n",
    "plt.show()\n"
   ]
  },
  {
   "source": [
    "In this last example, we create a Pie chart using the count of . To automatically get a total count, we increase the time_interval to be at least as long as the whole time period we are looking at. In our case, 11w (for 11 week) covers roughly the period."
   ],
   "cell_type": "markdown",
   "metadata": {}
  },
  {
   "cell_type": "code",
   "execution_count": null,
   "metadata": {},
   "outputs": [],
   "source": [
    "labels = []\n",
    "sizes = []\n",
    "explode = []\n",
    "for property in shared_properties:\n",
    "    prop_with_data = thing_pi.read_property(property.property_id, from_ts=\"2020-09-01 00:00:00\", to_ts=\"2020-10-20 00:00:00\", time_interval=\"11w\", time_fct=\"count\")\n",
    "    print(prop_with_data.values)\n",
    "    if len(prop_with_data.values) > 0:\n",
    "        labels.append(property.name)\n",
    "        sizes.append(prop_with_data.values[0][1])\n",
    "        # Let's give more importance to properties of type 'LIGHTBULB_STATUS'\n",
    "        if property.type[\"id\"] == \"LIGHTBULB_STATUS\":\n",
    "            explode.append(0.1)\n",
    "        else:\n",
    "            explode.append(0)\n",
    "\n",
    "# Build the Pie chart\n",
    "fig, axs = plt.subplots()\n",
    "# calculate pie chart with an explode section, labels,  without a shadow and starting at 90˚\n",
    "axs.pie(sizes, explode=explode, labels=labels, autopct='%1.1f%%',\n",
    "        shadow=False, startangle=90)\n",
    "axs.axis('equal')  # Equal aspect ratio ensures that pie is drawn as a circle.\n",
    "axs.legend()\n",
    "plt.show()"
   ]
  }
 ],
 "metadata": {
  "kernelspec": {
   "name": "Python 3.8.2 64-bit ('venv')",
   "display_name": "Python 3.8.2 64-bit ('venv')",
   "metadata": {
    "interpreter": {
     "hash": "897bb737dab4939a4422109967c3f26b479fa95fe6697ad835f91a39639e3a7d"
    }
   }
  },
  "language_info": {
   "codemirror_mode": {
    "name": "ipython",
    "version": 3
   },
   "file_extension": ".py",
   "mimetype": "text/x-python",
   "name": "python",
   "nbconvert_exporter": "python",
   "pygments_lexer": "ipython3",
   "version": "3.8.2-final"
  }
 },
 "nbformat": 4,
 "nbformat_minor": 4
}